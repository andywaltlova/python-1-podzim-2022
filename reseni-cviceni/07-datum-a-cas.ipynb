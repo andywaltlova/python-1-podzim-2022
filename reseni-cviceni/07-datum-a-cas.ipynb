{
 "cells": [
  {
   "cell_type": "markdown",
   "metadata": {},
   "source": [
    "## Převod času\n",
    "\n",
    "V proměnné start_Apolla máme uložený datum a čas startu Apolla 11.\n",
    "\n",
    "Vypiš datum na obrazovku ve formátu, na který jsou zvyklí Američané,\n",
    "tj. na první místo napiš měsíc, dále den a nakonec rok, jako oddělovače použij lomítka.\n",
    "\n",
    "Čas vypisovat nemusíš."
   ]
  },
  {
   "cell_type": "code",
   "execution_count": 1,
   "metadata": {},
   "outputs": [
    {
     "name": "stdout",
     "output_type": "stream",
     "text": [
      "07/16/1969\n"
     ]
    }
   ],
   "source": [
    "from datetime import datetime\n",
    "\n",
    "start_Apolla = datetime(1969, 7, 16, 14, 32)\n",
    "\n",
    "start_Apolla_pro_Americany = start_Apolla.strftime(\"%m/%d/%Y\")\n",
    "\n",
    "print(start_Apolla_pro_Americany)\n"
   ]
  },
  {
   "cell_type": "markdown",
   "metadata": {},
   "source": [
    "## Čas do startu\n",
    "\n",
    "Satelit Solar Orbiter, který má za cíl pozorování Slunce, odstartoval 10. února 2020 v 5:03.\n",
    "\n",
    "\n",
    "Který den v týdnu Solar Orbiter odstartoval?\n",
    "\n",
    "Spočítej, kolik času od jeho startu uplynulo."
   ]
  },
  {
   "cell_type": "code",
   "execution_count": 2,
   "metadata": {},
   "outputs": [
    {
     "name": "stdout",
     "output_type": "stream",
     "text": [
      "Solar Orbiter odstartoval v Monday\n",
      "995 days, 16:10:15.822469\n"
     ]
    }
   ],
   "source": [
    "# Ulož si hodnotu startu do proměnné.\n",
    "start_Solar_Orbiter = datetime(2020, 2, 10, 5, 3)\n",
    "\n",
    "# Který den v týdnu Solar Orbiter odstartoval?\n",
    "den_v_tydnu = start_Solar_Orbiter.weekday()\n",
    "den_v_tydnu = start_Solar_Orbiter.strftime(\"%A\")\n",
    "\n",
    "print(f\"Solar Orbiter odstartoval v {den_v_tydnu}\")\n",
    "\n",
    "# Spočítej, kolik času od jeho startu uplynulo.\n",
    "aktualni_cas = datetime.now()\n",
    "\n",
    "cas_od_startu = aktualni_cas - start_Solar_Orbiter\n",
    "print(cas_od_startu)"
   ]
  },
  {
   "cell_type": "markdown",
   "metadata": {},
   "source": [
    "## Doprava večeře\n",
    "\n",
    "Zákazník si objednal večeři na webu dovážkové služby 25. dubna 2022 v 19:47. \n",
    "\n",
    "Víme, že převzetí objednávky restaurací v průměru trvá 8 minut a 35 sekund, příprava jídla trvá 30 minut a doprava jídla k zákazníkovi 25 minut a 30 sekund. \n",
    "\n",
    "Kdy očekáváme, že jídlo dorazí zákazníkovi?\n"
   ]
  },
  {
   "cell_type": "code",
   "execution_count": 3,
   "metadata": {},
   "outputs": [
    {
     "name": "stdout",
     "output_type": "stream",
     "text": [
      "20:51:05\n"
     ]
    }
   ],
   "source": [
    "from datetime import datetime, timedelta\n",
    "\n",
    "cas_objednavky = datetime(2022, 4, 25, 19, 47)\n",
    "\n",
    "doba_prevzeti = timedelta(minutes=8, seconds=35)\n",
    "doba_pripravy = timedelta(minutes=30)\n",
    "doba_dopravy = timedelta(minutes=25, seconds=30)\n",
    "\n",
    "cas_dodani = cas_objednavky + doba_prevzeti + doba_pripravy + doba_dopravy\n",
    "cas_dodani = cas_dodani.strftime(\"%H:%M:%S\")\n",
    "print(cas_dodani)"
   ]
  }
 ],
 "metadata": {
  "kernelspec": {
   "display_name": "Python 3.10.1 64-bit",
   "language": "python",
   "name": "python3"
  },
  "language_info": {
   "codemirror_mode": {
    "name": "ipython",
    "version": 3
   },
   "file_extension": ".py",
   "mimetype": "text/x-python",
   "name": "python",
   "nbconvert_exporter": "python",
   "pygments_lexer": "ipython3",
   "version": "3.10.1"
  },
  "orig_nbformat": 4,
  "vscode": {
   "interpreter": {
    "hash": "aee8b7b246df8f9039afb4144a1f6fd8d2ca17a180786b69acc140d282b71a49"
   }
  }
 },
 "nbformat": 4,
 "nbformat_minor": 2
}
