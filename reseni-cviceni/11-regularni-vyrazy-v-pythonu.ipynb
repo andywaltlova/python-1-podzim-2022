{
 "cells": [
  {
   "cell_type": "markdown",
   "metadata": {},
   "source": [
    "# Cvičení: Regulární výrazy v Pythonu\n"
   ]
  },
  {
   "cell_type": "markdown",
   "metadata": {},
   "source": [
    "## 1 Uživatelské jméno (to dáš)\n",
    "\n",
    "Náš systém vyžaduje od uživatele zadání uživatelského jména.\n",
    "\n",
    "Uživatelské jméno smí obsahovat pouze malá písmena a smí být maximálně 8 znaků dlouhé.\n",
    "\n",
    "Požádej uživatele o zadání uživatelského jména a pomocí regulárního výrazu vyhodnoť, zda je zadané správné.\n",
    "\n"
   ]
  },
  {
   "cell_type": "code",
   "execution_count": null,
   "metadata": {},
   "outputs": [],
   "source": []
  },
  {
   "cell_type": "markdown",
   "metadata": {},
   "source": [
    "## 2 E-mail s tečkou (to dáš)\n",
    "\n",
    "Uprav program na ověření e-mailu tak, aby akceptoval i e-maily, které mají v první části tečku, např. jiri.pesik@python.cz.\n",
    "\n"
   ]
  },
  {
   "cell_type": "code",
   "execution_count": null,
   "metadata": {},
   "outputs": [],
   "source": []
  },
  {
   "cell_type": "markdown",
   "metadata": {},
   "source": [
    "## 3 Záznamy (to dáš)\n",
    "\n",
    "Uvažujme aplikaci, která si ukládá informace o činnosti uživatelů do textového souboru. Příklad souboru je níže.\n",
    "\n",
    "```\n",
    "zaznamy = \"\"\"\n",
    "searchNumber: pavca.czechitas action: search phone number of user dita\n",
    "user: pavca action: send sms to phone number +420728123456\n",
    "user: jirka: action: send 2 sms to phone number +420734123456\n",
    "\"\"\"\n",
    "\n",
    "```\n",
    "Napiš program, který vypíše všechna telefonní čísla, která jsou v textovém souboru zmíněna.\n",
    "\n",
    "Nahraď tato telefonní čísla nějakým řetězcem (např. \"XXX\"), aby nebyla v záznamech dostupná.\n"
   ]
  },
  {
   "cell_type": "code",
   "execution_count": null,
   "metadata": {},
   "outputs": [],
   "source": []
  },
  {
   "cell_type": "markdown",
   "metadata": {},
   "source": [
    "\n",
    "## 4 Adresy stránek (zapni hlavu)\n",
    "Adresy webových stránek zpravidla začínají záhadným shlukem písmen http:// nebo https://.\n",
    "\n",
    "Například náš web najdete pod adresou https://kodim.cz.\n",
    "\n",
    "Zkrátka HTTP nebo HTTPS je ve skutečnosti označení protokolu, což je nějaký popis toho, jak by měla vypadat komunikace mezi dvěma zařízeními.\n",
    "\n",
    "Standardního tvaru můžeme využít, abychom z textu vytáhli všechny adresy.\n",
    "\n",
    "Napiš program, který z proměnné emailSRadami vytáhne všechny webové stránky, které jsou tam zmíněny.\n",
    "\n",
    "```\n",
    "emailSRadami = \"\"\"\n",
    "Ahoj,\n",
    "posílám ti pár tipů, kam se podívat. https://realpython.com nabízí spoustu článků i kurzů. http://docs.python.org nabízí tutoriál i rozsáhlou dokumentaci. http://www.learnpython.org nabízí hezky strukturovaný kurz pro začátečníky, rozebírá ale i nějaká pokročilejší témata. https://www.pluralsight.com je placený web, který ale kvalitou kurzů víceméně nemá konkurenci. Určitě ale sleduj i web https://www.czechitas.cz a přihlašuj se na naše kurzy!\n",
    "\"\"\"\n",
    "```"
   ]
  },
  {
   "cell_type": "code",
   "execution_count": null,
   "metadata": {},
   "outputs": [],
   "source": []
  },
  {
   "cell_type": "markdown",
   "metadata": {},
   "source": [
    "## 5 IP adresy (zapni hlavu)\n",
    "Počítačové sítě jsou ve skutečnosti postavené na číselných adresách, které jsou označeny jako IP adresy.\n",
    "\n",
    "Každá IP adresy je čtveřice čísel v rozsahu 0 až 255, které jsou odděleny tečkou.\n",
    "\n",
    "Například IP adresy webu Czechitas v internetu je _51.68.166.161_.\n",
    "\n",
    "My ale pro zjednodušení budeme kontrolovat pouze to, zda je číslo v rozsahu 0 až 299.\n",
    "\n",
    "Uvažuj, že vytváříš aplikaci, která pošle testovací zprávu (tzv. ping) počítači s nějaou IP adresou.\n",
    "\n",
    "Napiš program, která požádá uživatele o IP adresu a zkontroluj, zda je adresa platná.\n",
    "\n",
    "Např. adresa _325.125.100.128_ není platná (první číslo je větší než 255), adresa _152.145.146_ také není platá (jde o trojici čísel, nikoli čtveřici), adresa _192.168.1.0_ je platná (čtveřice čísel v daném rozsahu).\n"
   ]
  },
  {
   "cell_type": "code",
   "execution_count": null,
   "metadata": {},
   "outputs": [],
   "source": []
  },
  {
   "cell_type": "markdown",
   "metadata": {},
   "source": [
    "## 6 Práce s kódem (smrt v přímém přenosu)\n",
    "Chceš pomoci firmě, která vyvinula e-mailového klienta pro český trh. \n",
    "\n",
    "Níže je kousek kódu, který generuje popisky políček pro zadání adres příjemců, příjemců v kopii, příjemců ve skryté kopii a tlačítka pro odeslání nebo uložení. \n",
    "\n",
    "Nyní by firma ráda expandovala na německý trh. \n",
    "\n",
    "Bohužel vývojáři vkládali popisky do aplikace jako řetězce a ztratili přehled o řetězcích, které v aplikaci mají a které je potřeba je přeložit.\n",
    "\n",
    "Zkopíruj si následující kód, uložený jako řetězec, do svého programu.\n",
    "\n",
    "Vyhledej v programu všechny řádky, kde je ukládán řetězec do proměnné, např. řádek `sender_field_title = \"Příjemce\"`.\n",
    "\n",
    "Pomocí dalšího regulárního výrazu vytáhni z každého řádku samotný řetězec (může být i s uvozovkami), např. \"Příjemce\".\n",
    "\n",
    "```\n",
    "kod = \"\"\"\n",
    "sender_field_title = \"Příjemce\"\n",
    "copy_field_title = \"Kopie\"\n",
    "if blind_copy == True:\n",
    "    blind_copy_title = \"Skrytá kopie\"\n",
    "if action == \"send\":\n",
    "    button_title = \"Odeslat\"\n",
    "else:\n",
    "    button_title = \"Uložit koncept\"\n",
    "\"\"\"\n",
    "```"
   ]
  },
  {
   "cell_type": "code",
   "execution_count": null,
   "metadata": {},
   "outputs": [],
   "source": []
  }
 ],
 "metadata": {
  "kernelspec": {
   "display_name": "Python 3.10.1 64-bit",
   "language": "python",
   "name": "python3"
  },
  "language_info": {
   "codemirror_mode": {
    "name": "ipython",
    "version": 3
   },
   "file_extension": ".py",
   "mimetype": "text/x-python",
   "name": "python",
   "nbconvert_exporter": "python",
   "pygments_lexer": "ipython3",
   "version": "3.10.1"
  },
  "orig_nbformat": 4,
  "vscode": {
   "interpreter": {
    "hash": "aee8b7b246df8f9039afb4144a1f6fd8d2ca17a180786b69acc140d282b71a49"
   }
  }
 },
 "nbformat": 4,
 "nbformat_minor": 2
}
