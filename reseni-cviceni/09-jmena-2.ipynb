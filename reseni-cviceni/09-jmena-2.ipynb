{
 "cells": [
  {
   "cell_type": "markdown",
   "metadata": {},
   "source": [
    "## Česká jména 2"
   ]
  },
  {
   "cell_type": "markdown",
   "metadata": {},
   "source": [
    "Stáhni si soubor jmena.csv se jmény tak, aby Pandas vyrobil číselný index. "
   ]
  },
  {
   "cell_type": "code",
   "execution_count": null,
   "metadata": {},
   "outputs": [],
   "source": [
    "import requests\n",
    "\n",
    "url = \"https://kodim.cz/cms/assets/kurzy/python-data-1/python-pro-data-1/zakladni-dotazy/excs/excs%3Eceska-jmena-2/jmena.csv\"\n",
    "r = requests.get(url, allow_redirects=True, verify=False)\n",
    "open('jmena.csv', 'wb').write(r.content)"
   ]
  },
  {
   "cell_type": "code",
   "execution_count": null,
   "metadata": {},
   "outputs": [],
   "source": [
    "import pandas\n",
    "\n",
    "jmena = pandas.read_csv(\"jmena.csv\")\n",
    "\n",
    "## Sloupce si můžu přejmenovat a vyhnout se psaní diakritiky\n",
    "# jmena2.columns = [\"jmeno\", \"cetnost\", \"vek\", \"pohlavi\", \"svatek\", \"puvod\"]"
   ]
  },
  {
   "cell_type": "markdown",
   "metadata": {},
   "source": [
    "Proveď následující dotazy:"
   ]
  },
  {
   "cell_type": "markdown",
   "metadata": {},
   "source": [
    "Vypiš všechny řádky se jmény, jejichž nositelé mají průměrný věk vyšší než 60.\n"
   ]
  },
  {
   "cell_type": "code",
   "execution_count": null,
   "metadata": {},
   "outputs": [],
   "source": [
    "jmena[jmena[\"věk\"] > 60]"
   ]
  },
  {
   "cell_type": "markdown",
   "metadata": {},
   "source": [
    "Vypiš pouze jména z těch řádků, kde četnost je mezi 80 000 a 100 000.\n"
   ]
  },
  {
   "cell_type": "code",
   "execution_count": null,
   "metadata": {},
   "outputs": [],
   "source": [
    "jmena[(jmena[\"četnost\"] > 80_000) & (jmena[\"četnost\"] < 100_000)]"
   ]
  },
  {
   "cell_type": "markdown",
   "metadata": {},
   "source": [
    "Vypiš jména a četnost pro jména se slovanským nebo hebrejským původem. Kolik takových jmen je?\n"
   ]
  },
  {
   "cell_type": "code",
   "execution_count": null,
   "metadata": {},
   "outputs": [],
   "source": [
    "vybrana_jmena = jmena[jmena[\"původ\"].isin([\"slovanský\",\"hebrejský\"])]\n",
    "# print(vybrana_jmena[[\"jméno\", \"četnost\"]])\n",
    "\n",
    "print(f\"Jmen je {vybrana_jmena.shape[0]}.\")"
   ]
  },
  {
   "cell_type": "markdown",
   "metadata": {},
   "source": [
    "Vypiš všechna jména, která mají svátek první 3 dny v prosinci."
   ]
  },
  {
   "cell_type": "code",
   "execution_count": null,
   "metadata": {},
   "outputs": [],
   "source": [
    "prosinec_jmena = jmena[jmena[\"svátek\"].isin([\"1.12\",\"2.12\",\"3.12\"])]\n",
    "\n",
    "print(prosinec_jmena[[\"jméno\", \"svátek\"]].sort_values(\"svátek\"))\n",
    "\n",
    "## Kontrola: 3.12 má podle kalendře svátek Svatoslav\n",
    "# jmena[jmena[\"jméno\"]==\"Svatoslav\"] ## v tabulce Svatoslava nemáme"
   ]
  }
 ],
 "metadata": {
  "kernelspec": {
   "display_name": "Python 3.10.1 64-bit",
   "language": "python",
   "name": "python3"
  },
  "language_info": {
   "codemirror_mode": {
    "name": "ipython",
    "version": 3
   },
   "file_extension": ".py",
   "mimetype": "text/x-python",
   "name": "python",
   "nbconvert_exporter": "python",
   "pygments_lexer": "ipython3",
   "version": "3.10.1"
  },
  "orig_nbformat": 4,
  "vscode": {
   "interpreter": {
    "hash": "aee8b7b246df8f9039afb4144a1f6fd8d2ca17a180786b69acc140d282b71a49"
   }
  }
 },
 "nbformat": 4,
 "nbformat_minor": 2
}
