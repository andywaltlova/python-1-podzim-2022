{
 "cells": [
  {
   "cell_type": "markdown",
   "metadata": {},
   "source": [
    "# Vizualizace"
   ]
  },
  {
   "cell_type": "markdown",
   "metadata": {},
   "source": [
    "## Modul `matplotlib`\n"
   ]
  },
  {
   "cell_type": "code",
   "execution_count": null,
   "metadata": {},
   "outputs": [],
   "source": [
    "# !pip install matplotlib # Instalace pro Windows\n",
    "\n",
    "# !pip3 install matplotlib # Instalace pro Mac OS nebo Linux"
   ]
  },
  {
   "cell_type": "markdown",
   "metadata": {},
   "source": [
    "## První graf"
   ]
  },
  {
   "cell_type": "markdown",
   "metadata": {},
   "source": [
    "* Importujeme si objekt pyplot z knihovny `matplotlib` a pojmenujeme si ho jako `plt`.\n",
    "* Použijeme funkci `pandas.read_csv()`, kterou si necháme data stáhnout rovnou z internetu.\n",
    "* Protože `CSV` soubor nemá hlavičku, musíme si sloupce sami pojmenovat a určit, který bude `DataFrame index`.\n",
    "* Necháme si `DataFrame` vykreslit do podoby grafu.\n",
    "* Obrázek s grafem si zobrazíme."
   ]
  },
  {
   "cell_type": "code",
   "execution_count": null,
   "metadata": {},
   "outputs": [],
   "source": [
    "import pandas\n",
    "import matplotlib.pyplot as plt\n",
    "\n",
    "url = \"https://kodim.cz/cms/assets/kurzy/python-data-1/python-pro-data-1/vizualizace/ucet.csv\"\n",
    "ucet = pandas.read_csv(url, names=['datum', 'pohyb'], index_col='datum')\n",
    "\n",
    "ucet.plot()\n",
    "plt.show()"
   ]
  },
  {
   "cell_type": "markdown",
   "metadata": {},
   "source": [
    "Graf zůstatků na účtě."
   ]
  },
  {
   "cell_type": "code",
   "execution_count": null,
   "metadata": {},
   "outputs": [],
   "source": [
    "ucet.cumsum().plot() # kumulativní suma\n",
    "\n",
    "plt.show"
   ]
  },
  {
   "cell_type": "markdown",
   "metadata": {},
   "source": [
    "## Možnosti formátování\n",
    "\n",
    "Dokumentace: https://pandas.pydata.org/pandas-docs/stable/reference/api/pandas.Series.plot.html\n",
    "\n",
    "Tutoriál: https://pandas.pydata.org/pandas-docs/stable/user_guide/visualization.html\n"
   ]
  },
  {
   "cell_type": "markdown",
   "metadata": {},
   "source": [
    "Vyrobíme z pohybů na účtu sloupcový graf s mřížkou ve žluté barvě."
   ]
  },
  {
   "cell_type": "code",
   "execution_count": null,
   "metadata": {},
   "outputs": [],
   "source": [
    "ucet.plot(\n",
    "        kind='bar', \n",
    "        color='yellow', \n",
    "        grid=True\n",
    "        )\n",
    "\n",
    "plt.show()"
   ]
  },
  {
   "cell_type": "markdown",
   "metadata": {},
   "source": [
    "### Barvy\n",
    "\n",
    "<https://matplotlib.org/stable/tutorials/colors/colors.html>"
   ]
  },
  {
   "cell_type": "code",
   "execution_count": null,
   "metadata": {},
   "outputs": [],
   "source": [
    "color = \"peachpuff\" # a named color\n",
    "color = \"#0f0f0f\" # RGB hex string\n",
    "color = (0.1, 0.2, 0.5) # RGB\n",
    "color = '0' # greyscale, black = 0, white = 1\n",
    "color = \"b\" # blue, k = black\n",
    "color= \"C4\" # Cn notation\n",
    "color = \"xkcd:crimson\" # a named xkcd color --> https://blog.xkcd.com/2010/05/03/color-survey-results/\n",
    "\n",
    "color"
   ]
  },
  {
   "cell_type": "markdown",
   "metadata": {},
   "source": [
    "### Podmíněné formatovaní"
   ]
  },
  {
   "cell_type": "code",
   "execution_count": null,
   "metadata": {},
   "outputs": [],
   "source": [
    "color = [\"red\" if value < 0 else \"green\" for value in ucet[\"pohyb\"]]\n",
    "\n",
    "ucet[\"pohyb\"].plot(kind = 'bar',\n",
    "        color = color, \n",
    "        width = 0.5,\n",
    "\n",
    "        ## Popisky\n",
    "        ylabel = \"Částka v Kč\",\n",
    "        xlabel = \"Datum transakce\",\n",
    "        title = \"Transakce na účtě\"\n",
    "        )\n",
    "\n",
    "plt.show()"
   ]
  },
  {
   "cell_type": "markdown",
   "metadata": {},
   "source": [
    "### plt.figure()"
   ]
  },
  {
   "cell_type": "code",
   "execution_count": null,
   "metadata": {},
   "outputs": [],
   "source": [
    "color = [\"#EB5160\" if value < 0 else \"#91C499\" for value in ucet[\"pohyb\"]]\n",
    "\n",
    "fig, ax = plt.subplots(figsize=(15,7))\n",
    "print(type(fig))\n",
    "print(type(ax))\n",
    "\n",
    "\n",
    "ax.set_title(\"Pohyby na účtu\", fontweight=\"bold\", fontsize = 24)\n",
    "ax.tick_params(axis=\"x\", labelrotation=45)\n",
    "ax.set_ylabel(\"Částka v Kč\", color=\"darkgrey\", fontsize = 12)\n",
    "ax.bar(ucet.index, ucet.pohyb, color = color)\n",
    "plt.axhline(y=0, color=\"k\", linestyle=\"--\")\n",
    "\n",
    "## Popisky hodnot v grafu\n",
    "for i in range(len(ucet.pohyb)):\n",
    "    plt.annotate(str(ucet.pohyb[i]), \n",
    "                xy=(ucet.index[i],\n",
    "                ucet.pohyb[i]), \n",
    "                ha='center', \n",
    "                va='bottom')\n",
    "\n",
    "ax.spines['right'].set_visible(False)\n",
    "ax.spines['left'].set_visible(False)\n",
    "\n",
    "plt.show"
   ]
  },
  {
   "cell_type": "markdown",
   "metadata": {},
   "source": [
    "![matplotlib-anatomy](assets/anatomy.png)"
   ]
  },
  {
   "cell_type": "markdown",
   "metadata": {},
   "source": [
    "### Style sheets"
   ]
  },
  {
   "cell_type": "code",
   "execution_count": null,
   "metadata": {},
   "outputs": [],
   "source": [
    "# https://matplotlib.org/stable/gallery/style_sheets/index.html\n",
    "# https://towardsdatascience.com/how-to-create-and-use-custom-matplotlib-style-sheet-9393f498063\n",
    "\n",
    "plt.rcParams['figure.figsize'] = [15, 5]\n",
    "plt.style.use(['dark_background']) # default, grayscale\n",
    "\n",
    "# with plt.xkcd():\n",
    "#     ucet.plot(\n",
    "#         color=\"xkcd:crimson\"\n",
    "#     )\n",
    "# plt.show()"
   ]
  },
  {
   "cell_type": "markdown",
   "metadata": {},
   "source": [
    "## Typy grafů\n",
    "\n",
    "Typ grafu se v metodě `plot` specifikuje pomocí argumentu `type`. "
   ]
  },
  {
   "cell_type": "markdown",
   "metadata": {},
   "source": [
    "Základní typy grafů, které se hojně používají mohou být například tyto:\n",
    "\n",
    "* plot() - [Bodový graf](https://matplotlib.org/api/_as_gen/matplotlib.pyplot.plot.html),\n",
    "* bar() - [Sloupcový graf](https://matplotlib.org/api/_as_gen/matplotlib.pyplot.bar.html),\n",
    "* hist() - [Histogram](https://matplotlib.org/api/_as_gen/matplotlib.pyplot.hist.html),\n",
    "* boxplot() - [Krabicový graf](https://matplotlib.org/api/_as_gen/matplotlib.pyplot.boxplot.html).\n",
    "\n",
    "\n",
    "Výběr vhodného typu vizualizace se odvíjí od toho, jaká data zobrazujeme. \n",
    "\n",
    "Rady, jak vybrat vhodný typ vizualizace, najdete třeba v [tomto článku](https://blog.hubspot.com/marketing/types-of-graphs-for-data-visualization).\n"
   ]
  },
  {
   "cell_type": "code",
   "execution_count": null,
   "metadata": {},
   "outputs": [],
   "source": [
    "ucet.plot.bar()\n",
    "plt.show()"
   ]
  },
  {
   "cell_type": "markdown",
   "metadata": {},
   "source": [
    "### Histogramy"
   ]
  },
  {
   "cell_type": "markdown",
   "metadata": {},
   "source": [
    "Zobrazuje četnost hodnot z nějakého datasetu."
   ]
  },
  {
   "cell_type": "code",
   "execution_count": null,
   "metadata": {},
   "outputs": [],
   "source": [
    "# Následující seznam obsahuje výšku 64 náhodných mužů v České republice, měřeno v centimetrech.\n",
    "\n",
    "muzi = pandas.Series([\n",
    "  179.3, 183.7, 181.4, 176.0, 183.6, 184.7, 163.4, 180.3,\n",
    "  167.5, 166.8, 173.5, 172.5, 173.0, 177.6, 176.0, 179.5,\n",
    "  182.6, 172.0, 183.2, 177.0, 176.2, 175.7, 174.3, 180.3,\n",
    "  184.9, 171.1, 182.3, 169.7, 181.3, 188.8, 176.8, 159.0,\n",
    "  180.3, 198.5, 185.8, 191.0, 170.9, 196.0, 183.3, 183.0,\n",
    "  189.9, 184.8, 184.0, 183.1, 184.0, 190.7, 191.7, 187.8,\n",
    "  177.5, 177.5, 189.2, 188.4, 195.0, 204.2, 180.2, 181.3,\n",
    "  178.2, 182.6, 172.1, 175.7, 180.7, 181.2, 165.0, 188.6\n",
    "])"
   ]
  },
  {
   "cell_type": "code",
   "execution_count": null,
   "metadata": {},
   "outputs": [],
   "source": [
    "muzi.hist()\n",
    "plt.show()"
   ]
  },
  {
   "cell_type": "code",
   "execution_count": null,
   "metadata": {},
   "outputs": [],
   "source": [
    "## Rozdělení po 5 centimetrech\n",
    "\n",
    "muzi.hist(bins=[\n",
    "  150, 155, 160, 165, 170, 175, 180, 185, 190, 195, 200, 205, 210\n",
    "])\n",
    "\n",
    "plt.show()"
   ]
  },
  {
   "cell_type": "markdown",
   "metadata": {},
   "source": [
    "### Krabicový graf"
   ]
  },
  {
   "cell_type": "markdown",
   "metadata": {},
   "source": [
    "Krabicový graf graficky znázorňuje medián a kvartily naměřených hodnot. \n"
   ]
  },
  {
   "cell_type": "markdown",
   "metadata": {},
   "source": [
    "![Box plot explained](assets/boxplot-example.png)\n"
   ]
  },
  {
   "cell_type": "code",
   "execution_count": null,
   "metadata": {},
   "outputs": [],
   "source": [
    "muzi.plot(\n",
    "            kind='box', \n",
    "            whis=[0, 100] # whiskers: the vertical lines extending to the most extreme, non-outlier data points.\n",
    "        )\n",
    "\n",
    "plt.show()\n",
    "\n",
    "## Další možnosti vytvoření grafu\n",
    "# df.plot.box()\n",
    "# df.boxplot()"
   ]
  },
  {
   "cell_type": "markdown",
   "metadata": {},
   "source": [
    "Krabicové grafy jsou užitečné především pro porovnání dvou různých měření. \n",
    "\n",
    "Přidejme si druhou datovou sadu představující naměřené výšky žen."
   ]
  },
  {
   "cell_type": "code",
   "execution_count": null,
   "metadata": {},
   "outputs": [],
   "source": [
    "zeny = pandas.Series([\n",
    "  172.0, 169.0, 166.8, 164.6, 172.7, 171.5, 167.0, 167.0,\n",
    "  168.3, 184.7, 166.0, 160.0, 168.8, 165.8, 173.5, 163.0,\n",
    "  168.9, 158.4, 166.4, 169.4, 174.2, 175.6, 167.2, 168.0,\n",
    "  171.5, 168.8, 168.9, 174.1, 169.0, 170.7, 156.3, 174.8,\n",
    "  169.1, 161.4, 172.5, 166.1, 171.5, 163.9, 164.5, 169.0,\n",
    "  168.5, 163.3, 169.5, 167.4, 175.5, 165.0, 166.6, 158.9,\n",
    "  164.5, 168.7, 161.6, 175.8, 179.0, 167.9, 161.1, 167.6,\n",
    "  165.9, 165.2, 176.0, 179.4, 160.1, 163.8, 177.7, 160.4\n",
    "])"
   ]
  },
  {
   "cell_type": "markdown",
   "metadata": {},
   "source": [
    "Vytvoříme DataFrame."
   ]
  },
  {
   "cell_type": "code",
   "execution_count": null,
   "metadata": {},
   "outputs": [],
   "source": [
    "vysky = muzi.to_frame(name='muži')\n",
    "vysky['ženy'] = zeny\n",
    "\n",
    "## Alternativní postup vytvoření dataframu\n",
    "# vysky = pandas.DataFrame(columns = [\"Muzi\", \"Zeny\"])\n",
    "# vysky[\"Muzi\"] = muzi\n",
    "# vysky[\"Zeny\"] = zeny"
   ]
  },
  {
   "cell_type": "code",
   "execution_count": null,
   "metadata": {},
   "outputs": [],
   "source": [
    "vysky.plot(kind='box', whis=[0, 100])\n",
    "\n",
    "plt.show()"
   ]
  },
  {
   "cell_type": "markdown",
   "metadata": {},
   "source": [
    "--- "
   ]
  },
  {
   "cell_type": "markdown",
   "metadata": {},
   "source": [
    "Více o boxplotu: <https://www.simplypsychology.org/boxplots.html>\n",
    "\n",
    "Typické míry střední hodnoty jsou: \n",
    "- aritmetický průměr – průměr všech hodnot ve vzorku (počítáno podle hodnot), \n",
    "- medián – hodnota, které se nachází ve středu vzorku (počítáno podle pozic), a \n",
    "- modus – nejčastěji se vyskytující hodnota (počítáno podle frekvencí).\n",
    "\n",
    "Typické míry rozptylu jsou: \n",
    "- kvartily – každá ze tří hodnot, které rozdělují tříděné údaje na čtyři stejné části tak, aby každá část představovala jednu čtvrtinu zkoumaného vzorku: \n",
    "\n",
    "- První kvartil (neboli dolní kvartil) odděluje nejnižších 25 % dat (25. percentil), \n",
    "- druhý kvartil (neboli střední) odděluje data v polovině (50. percentil), a \n",
    "- třetí kvartil (neboli horní kvartil) odděluje nejvyšších 25 % dat (75. percentil).\n",
    "\n",
    "Typické míry extrémů jsou: \n",
    "- minimum – nejmenší číslo vzorku, a \n",
    "- maximum – největší číslo vzorku."
   ]
  }
 ],
 "metadata": {
  "interpreter": {
   "hash": "aee8b7b246df8f9039afb4144a1f6fd8d2ca17a180786b69acc140d282b71a49"
  },
  "kernelspec": {
   "display_name": "Python 3.10.1 64-bit",
   "language": "python",
   "name": "python3"
  },
  "language_info": {
   "codemirror_mode": {
    "name": "ipython",
    "version": 3
   },
   "file_extension": ".py",
   "mimetype": "text/x-python",
   "name": "python",
   "nbconvert_exporter": "python",
   "pygments_lexer": "ipython3",
   "version": "3.10.1"
  },
  "orig_nbformat": 4
 },
 "nbformat": 4,
 "nbformat_minor": 2
}
