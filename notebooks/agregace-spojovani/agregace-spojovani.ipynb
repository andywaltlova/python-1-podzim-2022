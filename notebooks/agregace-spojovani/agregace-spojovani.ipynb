{
 "cells": [
  {
   "cell_type": "markdown",
   "metadata": {},
   "source": [
    "# Agregace a spojování"
   ]
  },
  {
   "cell_type": "markdown",
   "metadata": {},
   "source": [
    "Stáhneme si soubory, se kterými budeme pracovat."
   ]
  },
  {
   "cell_type": "code",
   "execution_count": null,
   "metadata": {},
   "outputs": [],
   "source": [
    "import requests\n",
    "\n",
    "file_names = [\"u202.csv\", \"u203.csv\", \"u302.csv\", \"studenti.csv\", \"predsedajici.csv\"]\n",
    "\n",
    "for file in file_names:\n",
    "    url = \"https://kodim.cz/cms/assets/kurzy/python-data-1/python-pro-data-1/agregace-a-spojovani/{}\".format( file )\n",
    "    r = requests.get(url)\n",
    "    open(file, \"wb\").write(r.content)\n",
    "    print(f\"File {file} downloaded.\")"
   ]
  },
  {
   "cell_type": "markdown",
   "metadata": {},
   "source": [
    "Vytvoříme pandas DataFrame pro soubory s výsledky maturitní zkoušky."
   ]
  },
  {
   "cell_type": "code",
   "execution_count": null,
   "metadata": {},
   "outputs": [],
   "source": [
    "import pandas\n",
    "\n",
    "u202 = pandas.read_csv(\"u202.csv\")\n",
    "u203 = pandas.read_csv(\"u203.csv\")\n",
    "u302 = pandas.read_csv(\"u302.csv\")"
   ]
  },
  {
   "cell_type": "markdown",
   "metadata": {},
   "source": [
    "Podíváme se na data."
   ]
  },
  {
   "cell_type": "code",
   "execution_count": null,
   "metadata": {},
   "outputs": [],
   "source": [
    "u202"
   ]
  },
  {
   "cell_type": "markdown",
   "metadata": {},
   "source": [
    "## Práce s chybějícími hodnotami\n",
    "anglicky _missing values_\n",
    "\n",
    "\n",
    "**Co je chybějící hodnota?**\n",
    "- hodnota `NaN` (Not a Number)\n",
    "    - _napr. prazdna bunka v csv --> rovnou nahrazena NaN_\n",
    "- `None` = zabudovaná konstanta v Pythonu \n",
    "- `pd.NA` = zatím experiment hodnota, která by měla reprezentovat chybějící hodnoty všech typů\n",
    "\n",
    "<br>\n",
    "<br>\n",
    "\n",
    "**Co není chybějící hodnota?**\n",
    "- řetězec `''` nebo `'NaN'` and `'None'`\n",
    "- `inf` / `-inf` = infinity je nedefinované číslo, kladné nebo záporné\n",
    "\n",
    "<br>\n",
    "<br>\n",
    "\n",
    "**Jak s chybějící hodnotou zacházet?**\n",
    "1. Nejlepší je vždy ověření, proč údaje chybí (např. u poskytovatele dat) a pokud je to možné, zajistit jejich doplnění.\n",
    "2. Nahradit chybějící hodnoty jinými hodnotami.\n",
    "3. Odstranit všechny řádky s chybějícími daty z datového setu.\n",
    "4. Vyčlenit je do separátního datasetu a zpracovat je zvlášť.\n",
    "\n",
    "_Důležité je mít na paměti, že vyřazením některých řádků může dojít ke zkreslení výsledků analýzy!_"
   ]
  },
  {
   "cell_type": "markdown",
   "metadata": {},
   "source": [
    "### Odstranění neúplných řádků\n",
    "\n",
    "**Jak chybějící hodnoty najít a odstranit**\n",
    "\n"
   ]
  },
  {
   "cell_type": "markdown",
   "metadata": {},
   "source": [
    "**`isnull()`** \n",
    "\n",
    "**`notnull()`**\n",
    "\n",
    "Obě metody vrací hodnoty `True` nebo `False`"
   ]
  },
  {
   "cell_type": "markdown",
   "metadata": {},
   "source": [
    "Vyzkoušíme si `isnull()`."
   ]
  },
  {
   "cell_type": "code",
   "execution_count": null,
   "metadata": {},
   "outputs": [],
   "source": [
    "u202['znamka'].isnull()\n",
    "\n",
    "## Alternativa \n",
    "# u202['znamka'].isna() # isna() se NIJAK neliší od isnull() "
   ]
  },
  {
   "cell_type": "markdown",
   "metadata": {},
   "source": [
    "Vyzkoušíme si `notnull()`."
   ]
  },
  {
   "cell_type": "code",
   "execution_count": null,
   "metadata": {},
   "outputs": [],
   "source": [
    "u202['znamka'].notnull()\n",
    "\n",
    "## Alternativa\n",
    "# u202['znamka'].notna()"
   ]
  },
  {
   "cell_type": "markdown",
   "metadata": {},
   "source": [
    "Vybereme pomocí `isnull()` jen řádky, které mají chybějící hodnoty."
   ]
  },
  {
   "cell_type": "code",
   "execution_count": null,
   "metadata": {},
   "outputs": [],
   "source": [
    "## Najedeme je ty, kde isnull() je True\n",
    "jen_null_radky = u202[u202[\"znamka\"].isnull()]\n",
    "jen_null_radky"
   ]
  },
  {
   "cell_type": "markdown",
   "metadata": {},
   "source": [
    "### Další metody na práci s chybějícími hodnotami\n",
    "\n",
    "\n",
    "**`dropna()`**\n",
    "- vrátí datový set očištěn od chybějících dat\n",
    "- `dropna(axis=0)` --> odstraní všechny řádky, které obsahují chybějící data\n",
    "- `dropna(axis=1)` --> odstraní všechny sloupce, které obsahují chybějící data\n",
    "- Dokumentace: https://pandas.pydata.org/docs/reference/api/pandas.DataFrame.dropna.html\n",
    "<br>\n",
    "<br>\n",
    "\n",
    "\n",
    "**`fillna(x)`**\n",
    "- nahradí všechna chybějící data a hodnoty hodnotou x\n",
    "- Dokumentace: https://pandas.pydata.org/docs/reference/api/pandas.DataFrame.fillna.html\n"
   ]
  },
  {
   "cell_type": "code",
   "execution_count": null,
   "metadata": {},
   "outputs": [],
   "source": [
    "## Příklady těchto metod - pojďme si to vyzkoušet\n",
    "testovaci_data = u202[u202['znamka'].isnull()]\n",
    "testovaci_data"
   ]
  },
  {
   "cell_type": "code",
   "execution_count": null,
   "metadata": {},
   "outputs": [],
   "source": [
    "# Odstranění řádků s dropna()\n",
    "testovaci_data.dropna()\n",
    "\n",
    "## Alternativa\n",
    "# testovaci_data.dropna(axis=0)"
   ]
  },
  {
   "cell_type": "code",
   "execution_count": null,
   "metadata": {},
   "outputs": [],
   "source": [
    "# Odstranění sloupců s dropna()\n",
    "testovaci_data.dropna(axis=1)"
   ]
  },
  {
   "cell_type": "code",
   "execution_count": null,
   "metadata": {},
   "outputs": [],
   "source": [
    "# Nahrazení chybějících hodnot\n",
    "testovaci_data.fillna('Hodnota chybí')"
   ]
  },
  {
   "cell_type": "markdown",
   "metadata": {},
   "source": [
    "## Spojení dat\n",
    "\n",
    "Pojďme spojit naše tři tabulky dohromady.\n"
   ]
  },
  {
   "cell_type": "markdown",
   "metadata": {},
   "source": [
    "- Tabulky spojíme pod sebe. \n",
    "- Budeme stále mít tři sloupce.\n",
    "- Počet řádků bude odpovídat počtu řádků všech tří tabulek dohromady.\n",
    "- _V SQL tomu odpovídá operace `UNION`._"
   ]
  },
  {
   "cell_type": "markdown",
   "metadata": {},
   "source": [
    "Použijeme naše DataFrames a očistíme je o řádky s chybějícími hodnotami"
   ]
  },
  {
   "cell_type": "code",
   "execution_count": null,
   "metadata": {},
   "outputs": [],
   "source": [
    "## Tak to pojďme vyčistit\n",
    "u202 = pandas.read_csv('u202.csv').dropna()\n",
    "u203 = pandas.read_csv('u203.csv').dropna()\n",
    "u302 = pandas.read_csv('u302.csv').dropna()"
   ]
  },
  {
   "cell_type": "markdown",
   "metadata": {},
   "source": [
    "**Funkce `concat`**\n"
   ]
  },
  {
   "cell_type": "markdown",
   "metadata": {},
   "source": [
    "! Pozor: funkce rozbije index. \n",
    "<br>\n",
    "<br>\n",
    "Spojí totiž indexy tabulek za sebe např. 1 2 3 1 2 3 1 2 3. <br>\n",
    "Pomůže nám parameter `ignore_index`"
   ]
  },
  {
   "cell_type": "code",
   "execution_count": null,
   "metadata": {},
   "outputs": [],
   "source": [
    "maturita = pandas.concat([u202, u203, u302])\n",
    "maturita"
   ]
  },
  {
   "cell_type": "code",
   "execution_count": null,
   "metadata": {},
   "outputs": [],
   "source": [
    "maturita = pandas.concat([u202, u203, u302], ignore_index=True)\n",
    "maturita"
   ]
  },
  {
   "cell_type": "markdown",
   "metadata": {},
   "source": [
    "**Vytvoření nového sloupce**\n",
    "\n",
    "Spojením tabulek jsme ztratili informace o čísle místnosti. \n",
    "\n",
    "Můžeme si ale číslo místnosti před spojením uložit do nového sloupečku."
   ]
  },
  {
   "cell_type": "code",
   "execution_count": null,
   "metadata": {},
   "outputs": [],
   "source": [
    "u202['mistnost'] = 'u202'\n",
    "u203['mistnost'] = 'u203'\n",
    "u302['mistnost'] = 'u302'\n",
    "\n",
    "maturita = pandas.concat([u202, u203, u302], ignore_index=True)"
   ]
  },
  {
   "cell_type": "markdown",
   "metadata": {},
   "source": [
    "**Uložení tabulky do souboru**"
   ]
  },
  {
   "cell_type": "code",
   "execution_count": null,
   "metadata": {},
   "outputs": [],
   "source": [
    "# dataframe.to_csv('soubor.csv', index=False)\n",
    "\n",
    "maturita.to_csv('maturita.csv', index=False)"
   ]
  },
  {
   "cell_type": "markdown",
   "metadata": {},
   "source": [
    "Finální tabulku, kterou jsme právě vytvořili, si můžete pro kontrolu stáhnout zde: \n",
    "\n",
    "<https://stage.kodim.cz/cms/assets/kurzy/python-data-1/python-pro-data-1/agregace-a-spojovani/maturita.csv>"
   ]
  },
  {
   "cell_type": "markdown",
   "metadata": {},
   "source": [
    "## Propojení dat"
   ]
  },
  {
   "cell_type": "markdown",
   "metadata": {},
   "source": [
    "- Tabulky můžeme spojit více způsoby. \n",
    "- _V SQL tomu odpovídá operace `JOIN`._\n",
    "- Výsledná tabulka bude mít více sloupců.\n",
    "- Počet řádků na typu propojení.\n"
   ]
  },
  {
   "cell_type": "markdown",
   "metadata": {},
   "source": [
    "**Typy propojení**"
   ]
  },
  {
   "cell_type": "markdown",
   "metadata": {},
   "source": [
    "![Druhy propojeni](assets/type_of_join_operations.png)"
   ]
  },
  {
   "cell_type": "markdown",
   "metadata": {},
   "source": [
    "**Přidáme další tabulku**\n",
    "\n",
    "Naše výsledky byly anonymní. Pokud bychom ale chtěli vytisknout maturitní vysvědčení, potřebujeme k číslům studenta zjistit jejich jména. \n",
    "\n",
    "Jména najdeme v samostatné tabulce `studenti.csv`. Načtěme si jej jako `DataFrame`."
   ]
  },
  {
   "cell_type": "code",
   "execution_count": null,
   "metadata": {},
   "outputs": [],
   "source": [
    "studenti = pandas.read_csv('studenti.csv')"
   ]
  },
  {
   "cell_type": "markdown",
   "metadata": {},
   "source": [
    "U operace `JOIN` jsou důležité dvě věci:\n",
    "\n",
    "- Podle jakého sloupce (nebo jakých sloupců) dvě různé tabulky propojujeme.\n",
    "- Co udělat v případě, že pro nějaké řádky nemám ve druhé tabulce odpovídající hodnotu."
   ]
  },
  {
   "cell_type": "markdown",
   "metadata": {},
   "source": [
    "**Funkce `merge`**\n",
    "\n",
    "Dokumentace: https://pandas.pydata.org/pandas-docs/stable/reference/api/pandas.DataFrame.merge.html"
   ]
  },
  {
   "cell_type": "code",
   "execution_count": null,
   "metadata": {},
   "outputs": [],
   "source": [
    "propojeny_df = pandas.merge(u202, studenti)"
   ]
  },
  {
   "cell_type": "markdown",
   "metadata": {},
   "source": [
    "Ve výchozím nastavení funkce merge() ponechá pouze řádky, které mají záznamy v obou tabulkách. \n",
    "\n",
    "V SQL bychom tuto operaci označili jako INNER JOIN."
   ]
  },
  {
   "cell_type": "code",
   "execution_count": null,
   "metadata": {},
   "outputs": [],
   "source": [
    "\"\"\"\n",
    "Pokud by například nějaký student nebyl uvedený v tabulce se studenty, jeho maturitní výsledek by zmizel. \n",
    "U nového DataFrame bychom tedy měli zkontrolovat, zda má propojeny_df stejný počet řádků jako u202.\n",
    "\"\"\"\n",
    "\n",
    "print(u202.shape)\n",
    "\n",
    "print(propojeny_df.shape)"
   ]
  },
  {
   "cell_type": "markdown",
   "metadata": {},
   "source": [
    "**Tabulka s předsedy maturitních komisí**"
   ]
  },
  {
   "cell_type": "code",
   "execution_count": null,
   "metadata": {},
   "outputs": [],
   "source": [
    "preds = pandas.read_csv('predsedajici.csv')"
   ]
  },
  {
   "cell_type": "code",
   "execution_count": null,
   "metadata": {},
   "outputs": [],
   "source": [
    "novy_propojeny_df = pandas.merge(propojeny_df, preds)\n",
    "novy_propojeny_df.head()"
   ]
  },
  {
   "cell_type": "markdown",
   "metadata": {},
   "source": [
    "Tentokrát jsme příliš neuspěli, výsledný DataFrame je prázdný. \n",
    "\n",
    "Protože v obou DataFrame máme sloupec **jmeno**, v jednom případě však jde o jméno studenta a ve druhém o jméno předsedy komise. \n",
    "\n",
    "Musíme říct, že chceme data spojit pouze podle sloupce den."
   ]
  },
  {
   "cell_type": "code",
   "execution_count": null,
   "metadata": {},
   "outputs": [],
   "source": [
    "novy_propojeny_df = pandas.merge(propojeny_df, preds, on=['den'])\n",
    "novy_propojeny_df"
   ]
  },
  {
   "cell_type": "markdown",
   "metadata": {},
   "source": [
    "**Zmizely nám řádky!**\n",
    "\n",
    "To znamená, že funkce `merge()` **nenašla pro všechna zkoušení odpovídajícího předsedu**. \n",
    "\n",
    "<br>\n",
    "\n",
    "Zkusme nyní říct funkci `merge()`, aby nám zachovala v prvním DataFrame ty řádky, pro které nenajde odpovídající záznam. \n",
    "\n",
    "Této operaci se v jazyce SQL říká **LEFT OUTER JOIN**. \n",
    "\n",
    "My ho provede tak, že funkci `merge()` jako parametr `how` zadáme hodnotu `left`."
   ]
  },
  {
   "cell_type": "code",
   "execution_count": null,
   "metadata": {},
   "outputs": [],
   "source": [
    "novy_propojeny_df = pandas.merge(propojeny_df, preds, on=['den'], how=\"left\") # how = \"outer\"\n",
    "novy_propojeny_df"
   ]
  },
  {
   "cell_type": "markdown",
   "metadata": {},
   "source": [
    "Zkusme si zobrazit ty řádky, které se nepodařilo propojit. \n",
    "\n",
    "Poznáme je tak, že mají prázdný sloupec datum.\n",
    "\n",
    "Z nějakého důvodu nám nefunguje propojení v případě, že ve sloupci den je hodnota po. "
   ]
  },
  {
   "cell_type": "code",
   "execution_count": null,
   "metadata": {},
   "outputs": [],
   "source": [
    "novy_propojeny_df[novy_propojeny_df[\"datum\"].isnull()]"
   ]
  },
  {
   "cell_type": "markdown",
   "metadata": {},
   "source": [
    "**funkce `strip()`**\n",
    "\n",
    "z řetězce odstraní mezery (a další bílé znaky) na začátku a na konci"
   ]
  },
  {
   "cell_type": "code",
   "execution_count": null,
   "metadata": {},
   "outputs": [],
   "source": [
    "preds[\"den\"] = preds[\"den\"].str.strip()\n"
   ]
  },
  {
   "cell_type": "code",
   "execution_count": null,
   "metadata": {},
   "outputs": [],
   "source": [
    "novy_propojeny_df = pandas.merge(propojeny_df, preds, on=['den'], how=\"left\")\n",
    "novy_propojeny_df"
   ]
  },
  {
   "cell_type": "markdown",
   "metadata": {},
   "source": [
    "**Přejmenování sloupců**"
   ]
  },
  {
   "cell_type": "code",
   "execution_count": null,
   "metadata": {},
   "outputs": [],
   "source": [
    "novy_propojeny_df = novy_propojeny_df.rename(columns={'jmeno_x': 'jmeno', 'jmeno_y': 'predseda'})"
   ]
  },
  {
   "cell_type": "markdown",
   "metadata": {},
   "source": [
    "## Agregace"
   ]
  },
  {
   "cell_type": "markdown",
   "metadata": {},
   "source": [
    "**metoda `groupby()`**"
   ]
  },
  {
   "cell_type": "markdown",
   "metadata": {},
   "source": [
    "Pomocí metody groupby vyrobíme z `DataFrame` speciální objekt `DataFrameGroupBy`. \n",
    "\n",
    "`maturita.groupby('mistnost')`"
   ]
  },
  {
   "cell_type": "markdown",
   "metadata": {},
   "source": [
    "**Agregační funkce**"
   ]
  },
  {
   "cell_type": "code",
   "execution_count": null,
   "metadata": {},
   "outputs": [],
   "source": [
    "maturita.groupby('mistnost').count()"
   ]
  },
  {
   "cell_type": "markdown",
   "metadata": {},
   "source": [
    "Další užitečné agregační funkce jsou například:\n",
    "\n",
    "* `sum` - součet hodnot,\n",
    "* `max` - maximální hodnota,\n",
    "* `min` - minimální hodnota,\n",
    "* `first` - první hodnota,\n",
    "* `last` - poslední hodnota,\n",
    "* `mean` - průměr z hodnot,\n",
    "* `median` - medián z hodnot."
   ]
  },
  {
   "cell_type": "markdown",
   "metadata": {},
   "source": [
    "![Princip agragace](assets/groupby.png)"
   ]
  },
  {
   "cell_type": "markdown",
   "metadata": {},
   "source": [
    "**Agregace vybraných sloupců**"
   ]
  },
  {
   "cell_type": "code",
   "execution_count": null,
   "metadata": {},
   "outputs": [],
   "source": [
    "maturita.groupby('predmet')['znamka'].mean()"
   ]
  },
  {
   "cell_type": "code",
   "execution_count": null,
   "metadata": {},
   "outputs": [],
   "source": [
    "## Nebo více sloupců\n",
    "maturita.groupby('predmet')[['znamka', 'cisloStudenta']].mean()"
   ]
  },
  {
   "cell_type": "markdown",
   "metadata": {},
   "source": [
    "**ČTENÍ NA DOMA**\n",
    "\n",
    "**Funkce `.agg()`**\n",
    "\n",
    "Dokumentace: https://pandas.pydata.org/docs/reference/api/pandas.DataFrame.agg.html\n"
   ]
  },
  {
   "cell_type": "code",
   "execution_count": null,
   "metadata": {},
   "outputs": [],
   "source": [
    "maturita.groupby(\"cisloStudenta\").agg({\"znamka\": [\"max\", \"mean\"]})"
   ]
  },
  {
   "cell_type": "markdown",
   "metadata": {},
   "source": [
    "## Řazení\n",
    "\n",
    "**Metoda `sort_values`**\n",
    "\n",
    "Metoda `sort_values` standardně řadí vzestupně. \n",
    "\n",
    "Chceme-li řadit sestupně, zadáme jí parametr `ascending` a nastavíme ho na `False`."
   ]
  },
  {
   "cell_type": "code",
   "execution_count": null,
   "metadata": {},
   "outputs": [],
   "source": [
    "## Řazení hodnot v Series\n",
    "## https://pandas.pydata.org/docs/reference/api/pandas.Series.sort_values.html\n",
    "\n",
    "vysledky_predmetu = maturita.groupby('predmet')['znamka'].max() \n",
    "vysledky_predmetu.sort_values(ascending=False)"
   ]
  },
  {
   "cell_type": "code",
   "execution_count": null,
   "metadata": {},
   "outputs": [],
   "source": [
    "## Řazení hodnot v DataFramu\n",
    "## https://pandas.pydata.org/docs/reference/api/pandas.DataFrame.sort_values.html\n",
    "\n",
    "maturita.sort_values(by=\"znamka\")"
   ]
  },
  {
   "cell_type": "code",
   "execution_count": null,
   "metadata": {},
   "outputs": [],
   "source": [
    "## Řazení hodnot v DataFramu s Multiindexem\n",
    "\n",
    "vysledky_studenty = maturita.groupby(\"cisloStudenta\").agg({\"znamka\": [\"mean\"]})\n",
    "vysledky_studenty.sort_values([(\"znamka\", \"mean\")])"
   ]
  }
 ],
 "metadata": {
  "interpreter": {
   "hash": "aee8b7b246df8f9039afb4144a1f6fd8d2ca17a180786b69acc140d282b71a49"
  },
  "kernelspec": {
   "display_name": "Python 3.10.1 64-bit",
   "language": "python",
   "name": "python3"
  },
  "language_info": {
   "codemirror_mode": {
    "name": "ipython",
    "version": 3
   },
   "file_extension": ".py",
   "mimetype": "text/x-python",
   "name": "python",
   "nbconvert_exporter": "python",
   "pygments_lexer": "ipython3",
   "version": "3.10.1"
  },
  "orig_nbformat": 4
 },
 "nbformat": 4,
 "nbformat_minor": 2
}
