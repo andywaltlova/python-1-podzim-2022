{
 "cells": [
  {
   "cell_type": "markdown",
   "metadata": {},
   "source": [
    "# Regulární výrazy v Pythonu"
   ]
  },
  {
   "cell_type": "markdown",
   "metadata": {},
   "source": [
    "### modul `re` "
   ]
  },
  {
   "cell_type": "code",
   "execution_count": null,
   "metadata": {},
   "outputs": [],
   "source": [
    "import re\n",
    "\n",
    "## Vytvoření vzoru\n",
    "regex_rodne_cislo = re.compile(r\"\\d{9,10}\")"
   ]
  },
  {
   "cell_type": "markdown",
   "metadata": {},
   "source": [
    "### funkce `search`, `match`, `fullmatch`"
   ]
  },
  {
   "cell_type": "code",
   "execution_count": null,
   "metadata": {},
   "outputs": [],
   "source": [
    "regex_rodne_cislo = re.compile(r\"\\d{9,10}\")\n",
    "\n",
    "rezetec = \"Moje rodné číslo je 9511121234\" # řetězec obsahuje rodné číslo\n",
    "rezetec_presna_shoda = \"9511121234\" # řetězec je rodné číslo\n",
    "retezec_na_zacatku = \"9511121234 je moje rodné číslo.\" # řetězec začína rodným číslem\n",
    "\n",
    "print(\"\\nSearch:\")\n",
    "print(regex_rodne_cislo.search(rezetec)) # řetězec obsahuje rodné číslo\n",
    "print(regex_rodne_cislo.search(rezetec_presna_shoda)) # řetězec je rodné číslo\n",
    "print(regex_rodne_cislo.search(retezec_na_zacatku)) # řetězec začína rodným číslem\n",
    "\n",
    "print(\"\\nMatch:\")\n",
    "print(regex_rodne_cislo.match(rezetec)) # řetězec obsahuje rodné číslo\n",
    "print(regex_rodne_cislo.match(rezetec_presna_shoda)) # řetězec je rodné číslo\n",
    "print(regex_rodne_cislo.match(retezec_na_zacatku)) # řetězec začína rodným číslem\n",
    "\n",
    "\n",
    "print(\"\\nFullmatch:\")\n",
    "print(regex_rodne_cislo.fullmatch(rezetec)) # řetězec obsahuje rodné číslo\n",
    "print(regex_rodne_cislo.fullmatch(rezetec_presna_shoda)) # řetězec je rodné číslo\n",
    "print(regex_rodne_cislo.fullmatch(retezec_na_zacatku)) # řetězec začína rodným číslem"
   ]
  },
  {
   "cell_type": "markdown",
   "metadata": {},
   "source": [
    "### Podmínky\n",
    "\n",
    "- Pokud podmínce vložíme nějaký smysluplný výraz, vyhodnotí ho jako pravda.\n",
    "- Pokud podmínce vložíme prázdnou hodnotu None, vyhodnotí ji jako nepravda.\n",
    "\n"
   ]
  },
  {
   "cell_type": "code",
   "execution_count": null,
   "metadata": {},
   "outputs": [],
   "source": [
    "regex_rodne_cislo = re.compile(r\"\\d{9,10}\")\n",
    "\n",
    "rodne_cislo = \"9910011234\"\n",
    "hledani = regex_rodne_cislo.fullmatch(rodne_cislo)\n",
    "\n",
    "if hledani:\n",
    "    print(\"Rodné číslo je v pořádku!\")\n",
    "else:\n",
    "    print(\"Nesprávné rodné číslo!\")"
   ]
  },
  {
   "cell_type": "code",
   "execution_count": null,
   "metadata": {},
   "outputs": [],
   "source": [
    "## E-maily\n",
    "regex_email = re.compile(r\"\\w+@\\w+\\.cz\")\n",
    "\n",
    "email = \"info@czechitas.cz\"\n",
    "\n",
    "hledani = regex_email.fullmatch(email)\n",
    "if hledani:\n",
    "    print(\"E-mail je v pořádku!\")\n",
    "else:\n",
    "    print(\"Nesprávný e-mail!\")"
   ]
  },
  {
   "cell_type": "markdown",
   "metadata": {},
   "source": [
    "### funkce `findall()`"
   ]
  },
  {
   "cell_type": "code",
   "execution_count": null,
   "metadata": {},
   "outputs": [],
   "source": [
    "zapis = \"\"\"\n",
    "Zápisy o provedených vyšetřeních:\n",
    "Pacient 6407156800 trpěl bolestí zad a byl poslán na vyšetření. \n",
    "Pacientka 8655057477 přišla na kontrolu po zranění kotníku.\n",
    "Do ordinace telefonovala pacientka 7752126712, které byl elektronicky vydán recept na Paralen. \n",
    "\"\"\"\n",
    "\n",
    "regex_rodne_cislo = re.compile(r\"\\d{9,10}\")\n",
    "\n",
    "vysledky = regex_rodne_cislo.findall(zapis)\n",
    "print(vysledky)\n",
    "\n",
    "## Poznamka: funkce findall nerozumi seskupovani pomoci kulatych zavorek"
   ]
  },
  {
   "cell_type": "markdown",
   "metadata": {},
   "source": [
    "### funkce `sub()`"
   ]
  },
  {
   "cell_type": "code",
   "execution_count": null,
   "metadata": {},
   "outputs": [],
   "source": [
    "zapis = \"\"\"\n",
    "Zápisy o provedených vyšetřeních:\n",
    "Pacient 6407156800 trpěl bolestí zad a byl poslán na vyšetření. \n",
    "Pacientka 8655057477 přišla na kontrolu po zranění kotníku.\n",
    "Do ordinace telefonovala pacientka 7752126712, které byl elektronicky vydán recept na Paralen. \n",
    "\"\"\"\n",
    "\n",
    "regex_rodne_cislo = re.compile(r\"\\d{9,10}\")\n",
    "\n",
    "anonymni_zapis = regex_rodne_cislo.sub(\"X\", zapis)\n",
    "print(anonymni_zapis)"
   ]
  }
 ],
 "metadata": {
  "interpreter": {
   "hash": "aee8b7b246df8f9039afb4144a1f6fd8d2ca17a180786b69acc140d282b71a49"
  },
  "kernelspec": {
   "display_name": "Python 3.10.1 64-bit",
   "language": "python",
   "name": "python3"
  },
  "language_info": {
   "codemirror_mode": {
    "name": "ipython",
    "version": 3
   },
   "file_extension": ".py",
   "mimetype": "text/x-python",
   "name": "python",
   "nbconvert_exporter": "python",
   "pygments_lexer": "ipython3",
   "version": "3.10.1"
  },
  "orig_nbformat": 4
 },
 "nbformat": 4,
 "nbformat_minor": 2
}
