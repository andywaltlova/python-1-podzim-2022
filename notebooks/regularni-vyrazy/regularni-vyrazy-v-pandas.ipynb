{
 "cells": [
  {
   "cell_type": "markdown",
   "metadata": {},
   "source": [
    "## Regulární výrazy v Pandas"
   ]
  },
  {
   "cell_type": "code",
   "execution_count": null,
   "metadata": {},
   "outputs": [],
   "source": [
    "import pandas\n",
    "\n",
    "url = \"https://kodim.cz/cms/assets/kurzy/python-data-1/ziskavani-dat/regularni-vyrazy/zpravy.csv\"\n",
    "\n",
    "df = pandas.read_csv(url, sep=\";\")\n",
    "df"
   ]
  },
  {
   "cell_type": "markdown",
   "metadata": {},
   "source": [
    "### metoda `str.contains()`\n",
    "\n",
    "Metoda ověří, zda je ve sloupci skupina znaků, která odpovídá regulárnímu výrazu"
   ]
  },
  {
   "cell_type": "code",
   "execution_count": null,
   "metadata": {},
   "outputs": [],
   "source": [
    "# Přidáme sloupeček s informací do dataframu\n",
    "df[\"obsahuje_rodne_cislo\"] = df[\"zapis\"].str.contains(r\"\\d{9,10}\")\n",
    "df\n"
   ]
  },
  {
   "cell_type": "markdown",
   "metadata": {},
   "source": [
    "### metoda `str.count()`\n",
    "\n",
    "Metoda vrátí počet skupin znaků, které odpovídají regunárnímu výrazu, jako celé číslo."
   ]
  },
  {
   "cell_type": "code",
   "execution_count": null,
   "metadata": {},
   "outputs": [],
   "source": [
    "df[\"pocet_rodnych_cisel\"] = df[\"zapis\"].str.count(r\"\\d{9,10}\")\n",
    "df"
   ]
  },
  {
   "cell_type": "markdown",
   "metadata": {},
   "source": [
    "### metoda `findall()`\n",
    "\n",
    "Metoda vrátí všechny skupiny znaků, které odpovídají regulárnímu výrazu. Protože takových skupin může být více, vloží metoda jednotlivé nalezené řetězce do seznamu."
   ]
  },
  {
   "cell_type": "code",
   "execution_count": null,
   "metadata": {},
   "outputs": [],
   "source": [
    "df[\"rodna_cisla\"] = df[\"zapis\"].str.findall(r\"\\d{9,10}\")\n",
    "df"
   ]
  },
  {
   "cell_type": "markdown",
   "metadata": {},
   "source": [
    "### metoda `str.replace()`"
   ]
  },
  {
   "cell_type": "code",
   "execution_count": null,
   "metadata": {},
   "outputs": [],
   "source": [
    "df[\"anonymni_zapis\"] = df[\"zapis\"].str.replace(r\"\\d{9,10}\", \"XXX\")\n",
    "df"
   ]
  },
  {
   "cell_type": "markdown",
   "metadata": {},
   "source": [
    "### metody `str.match()` a `str.fullmatch()`\n",
    "\n",
    "První metodě stačí, že regulární výraz se shoduje s začátkem řetězce, druhá kontroluje celý řetězec a nesmí tam tedy být nic navíc."
   ]
  },
  {
   "cell_type": "code",
   "execution_count": null,
   "metadata": {},
   "outputs": [],
   "source": [
    "df[\"datum_ok\"] = df[\"datum\"].str.fullmatch(r\"\\d{4}-\\d{2}-\\d{1,2}\")\n",
    "df[\"datum_ok_cast\"] = df[\"datum\"].str.fullmatch(r\"\\d{4}\")\n",
    "df"
   ]
  }
 ],
 "metadata": {
  "interpreter": {
   "hash": "aee8b7b246df8f9039afb4144a1f6fd8d2ca17a180786b69acc140d282b71a49"
  },
  "kernelspec": {
   "display_name": "Python 3.10.1 64-bit",
   "language": "python",
   "name": "python3"
  },
  "language_info": {
   "codemirror_mode": {
    "name": "ipython",
    "version": 3
   },
   "file_extension": ".py",
   "mimetype": "text/x-python",
   "name": "python",
   "nbconvert_exporter": "python",
   "pygments_lexer": "ipython3",
   "version": "3.10.1"
  },
  "orig_nbformat": 4
 },
 "nbformat": 4,
 "nbformat_minor": 2
}
