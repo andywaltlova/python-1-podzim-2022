{
 "cells": [
  {
   "cell_type": "markdown",
   "metadata": {},
   "source": [
    "# Základní dotazy\n",
    "\n",
    "<https://kodim.cz/kurzy/python-data-1/python-pro-data-1/zakladni-dotazy/zakladni-dotazy>\n",
    "\n"
   ]
  },
  {
   "cell_type": "code",
   "execution_count": null,
   "metadata": {},
   "outputs": [],
   "source": [
    "# Stahneme si data, s kterymi budeme pracovat\n",
    "import requests\n",
    "\n",
    "url = \"https://kodim.cz/cms/assets/kurzy/python-data-1/python-pro-data-1/zakladni-dotazy/staty.json\"\n",
    "r = requests.get(url) # <Response [200]>\n",
    "open(\"staty.json\", \"wb\").write(r.content)"
   ]
  },
  {
   "cell_type": "markdown",
   "metadata": {},
   "source": [
    "## Indexy"
   ]
  },
  {
   "cell_type": "markdown",
   "metadata": {},
   "source": [
    "### Přidání indexů"
   ]
  },
  {
   "cell_type": "code",
   "execution_count": null,
   "metadata": {},
   "outputs": [],
   "source": [
    "import pandas\n",
    "\n",
    "staty = pandas.read_json(\"staty.json\")\n",
    "staty.head() #staty.info\n"
   ]
  },
  {
   "cell_type": "markdown",
   "metadata": {},
   "source": [
    "Každý stát na světě má svůj název a ten název je unikátní a identifikuje ho. \n",
    "\n",
    "Můžeme tedy tento název použít jako index.\n",
    "\n",
    "To, jaký sloupec má být použit jako index, řeší funkce `set_index()`."
   ]
  },
  {
   "cell_type": "code",
   "execution_count": null,
   "metadata": {},
   "outputs": [],
   "source": [
    "# Nastaveni indexu\n",
    "staty = staty.set_index(\"name\")"
   ]
  },
  {
   "cell_type": "markdown",
   "metadata": {},
   "source": [
    "Zkontrolovat index můžeme pomocí příkazu `staty.index`."
   ]
  },
  {
   "cell_type": "code",
   "execution_count": null,
   "metadata": {},
   "outputs": [],
   "source": [
    "staty.index"
   ]
  },
  {
   "cell_type": "markdown",
   "metadata": {},
   "source": [
    "### Výběr konkrétního řádku a hodnoty\n",
    "\n",
    "K nalezení řádku pomocí indexu použijeme `loc`, která funguje obdobně jako funkce `iloc`. \n",
    "\n",
    "* `iloc` pracuje s čísly řádků\n",
    "* `loc` používá nami zvolené indexy"
   ]
  },
  {
   "cell_type": "code",
   "execution_count": null,
   "metadata": {},
   "outputs": [],
   "source": [
    "# vyber radku\n",
    "staty.loc[\"Czech Republic\"]"
   ]
  },
  {
   "cell_type": "code",
   "execution_count": null,
   "metadata": {},
   "outputs": [],
   "source": [
    "# vyber radku a sloupce\n",
    "staty.loc[\"Czech Republic\",\"area\"]"
   ]
  },
  {
   "cell_type": "markdown",
   "metadata": {},
   "source": [
    "### Výběr několika řádků"
   ]
  },
  {
   "cell_type": "code",
   "execution_count": null,
   "metadata": {},
   "outputs": [],
   "source": [
    "# Náš soubor je seřazený dle abecedy.\n",
    "staty.loc[\"Czech Republic\":\"Dominican Republic\"]\n",
    "\n",
    "# staty.loc[:\"Andorra\"]\n",
    "# staty.loc[\"Uzbekistan\":] \n",
    "# staty.loc[[\"Czech Republic\",\"Slovakia\"]]\n",
    "# staty.loc[[\"Slovakia\",\"Poland\",\"Germany\",\"Austria\"], [\"area\",\"population\"]]"
   ]
  },
  {
   "cell_type": "markdown",
   "metadata": {},
   "source": [
    "## Dotazy"
   ]
  },
  {
   "cell_type": "markdown",
   "metadata": {},
   "source": [
    "Série umí například sama spočítat svůj součet a vrátit výsledek jako číslo. \n",
    "\n",
    "Dokumentace: https://pandas.pydata.org/pandas-docs/stable/reference/api/pandas.Series.html"
   ]
  },
  {
   "cell_type": "code",
   "execution_count": null,
   "metadata": {},
   "outputs": [],
   "source": [
    "populace = staty[\"population\"]\n",
    "populace.sum()"
   ]
  },
  {
   "cell_type": "code",
   "execution_count": null,
   "metadata": {},
   "outputs": [],
   "source": [
    "print(f\"Prumer je {populace.mean()}.\")\n",
    "print(f\"Minumum je {populace.min()}.\")\n",
    "print(f\"Maximum je {populace.max()}.\")\n",
    "print(f\"Median je {populace.median()}.\")"
   ]
  },
  {
   "cell_type": "code",
   "execution_count": null,
   "metadata": {},
   "outputs": [],
   "source": [
    "populace.describe()\n",
    "\n",
    "# staty.describe() # lze pouzit na cely DataFrame"
   ]
  },
  {
   "cell_type": "markdown",
   "metadata": {},
   "source": [
    "## Podmínky"
   ]
  },
  {
   "cell_type": "markdown",
   "metadata": {},
   "source": [
    "Ověřením podmínky získáme sloupec, kde máme 250 hodnot typu `bool`."
   ]
  },
  {
   "cell_type": "code",
   "execution_count": null,
   "metadata": {},
   "outputs": [],
   "source": [
    "# státy, které mají méně než 1000 obyvatel\n",
    "\n",
    "staty[\"population\"] < 1000\n"
   ]
  },
  {
   "cell_type": "markdown",
   "metadata": {},
   "source": [
    "`pandas` teď jednoduše udělají to, že vypíšou ty řádky řádky, kde má náš polotovar hodnotu `True` a ty, které mají hodnotu `False`, před námi skryjí."
   ]
  },
  {
   "cell_type": "code",
   "execution_count": null,
   "metadata": {},
   "outputs": [],
   "source": [
    "pidistaty = staty[staty[\"population\"] < 1000]\n",
    "\n",
    "pidistaty[[\"population\", \"area\"]] "
   ]
  },
  {
   "cell_type": "markdown",
   "metadata": {},
   "source": [
    "V některých řádcích vidíme hodnotu NaN. To značí, že pro daný řádek hodnotu nemáme, pro některé státy tedy nemáme zadanou rozlohu. "
   ]
  },
  {
   "cell_type": "code",
   "execution_count": null,
   "metadata": {},
   "outputs": [],
   "source": [
    "# Znas SQL? vyzkousej funkci query()\n",
    "staty.query(\"population < 1000\")"
   ]
  },
  {
   "cell_type": "markdown",
   "metadata": {},
   "source": [
    "### Spojení více podmínek\n",
    "\n",
    "Pokud chceme, aby musely být splněny obě podmínky, vložíme mezi ně symbol `&`. \n",
    "\n",
    "Pokud chceme, aby stačilo splnění jedné podmínky, použijeme symbol `|`. \n",
    "\n"
   ]
  },
  {
   "cell_type": "code",
   "execution_count": null,
   "metadata": {},
   "outputs": [],
   "source": [
    "lidnate_evropske_staty = staty[(staty[\"population\"] > 20_000_000) & (staty[\"region\"] == \"Europe\")]\n",
    "lidnate_evropske_staty[\"population\"]"
   ]
  },
  {
   "cell_type": "code",
   "execution_count": null,
   "metadata": {},
   "outputs": [],
   "source": [
    "staty[(staty[\"population\"] > 10_000_000_000) | (staty[\"area\"] > 3_000_000)]"
   ]
  },
  {
   "cell_type": "markdown",
   "metadata": {},
   "source": [
    "### Použití seznamu v podmínce\n",
    "\n",
    "Funkce `isin()` aplikovaná na jeden konkrétní sloupec vrátí nám `True` pro všechny řádky, pro které je hodnota přítomná v seznamu. "
   ]
  },
  {
   "cell_type": "code",
   "execution_count": null,
   "metadata": {},
   "outputs": [],
   "source": [
    "staty[staty[\"subregion\"].isin([\"Western Europe\", \"Eastern Europe\"])]"
   ]
  },
  {
   "cell_type": "markdown",
   "metadata": {},
   "source": [
    "## Převody dat na DataFrame a zpět"
   ]
  },
  {
   "cell_type": "markdown",
   "metadata": {},
   "source": [
    "### Převod DataFrame na seznam\n",
    "\n",
    "K takovému převodu na seznam nám poslouží kombinace funkcí `to_numpy` a `tolist`. \n",
    "\n",
    "Převod totiž neprovádíme přímo, ale jako mezikrok jej převedeme na pole modulu `numpy`."
   ]
  },
  {
   "cell_type": "code",
   "execution_count": null,
   "metadata": {},
   "outputs": [],
   "source": [
    "staty_list = staty.to_numpy().tolist() \n",
    "staty_list[0] "
   ]
  },
  {
   "cell_type": "markdown",
   "metadata": {},
   "source": [
    "Index se v Pandas nebere jako součást dat. \n",
    "\n",
    "Pokud chceme index vrátit do původního stavu a mít ho jako automaticky generovaná čísla řádků, můžeme použít metodu `reset_index`."
   ]
  },
  {
   "cell_type": "code",
   "execution_count": null,
   "metadata": {},
   "outputs": [],
   "source": [
    "staty_list = staty.reset_index().to_numpy().tolist() \n",
    "\n",
    "staty_list[0]"
   ]
  },
  {
   "cell_type": "markdown",
   "metadata": {},
   "source": [
    "### Vytvoření DataFrame ze seznamu"
   ]
  },
  {
   "cell_type": "code",
   "execution_count": null,
   "metadata": {},
   "outputs": [],
   "source": [
    "znamky = [\n",
    "    ['Petr', 2],\n",
    "    ['Roman', 1],\n",
    "    ['Jitka', 3],\n",
    "    ['Zuzana', 5],\n",
    "    ['Ondřej', 2],\n",
    "    ['Julie', 2],\n",
    "    ['Karel', 4],\n",
    "    ['Anna', 1],\n",
    "    ['Eva', 1]\n",
    "]\n",
    "\n",
    "soucet = 0\n",
    "for radek in znamky:\n",
    "    soucet = soucet + radek[1]\n",
    "prumer = soucet / len(znamky)"
   ]
  },
  {
   "cell_type": "code",
   "execution_count": null,
   "metadata": {},
   "outputs": [],
   "source": [
    "znamky = pandas.DataFrame(znamky, columns=['student', 'znamka'])\n",
    "\n",
    "prumer = znamky[\"znamka\"].mean()"
   ]
  },
  {
   "cell_type": "markdown",
   "metadata": {},
   "source": [
    "### Vytvoření DataFrame ze seznamu slovníků"
   ]
  },
  {
   "cell_type": "markdown",
   "metadata": {},
   "source": [
    "Nemusíme přidávat názvy sloupců, protože ty už funkce DataFrame získá z klíčů slovníků."
   ]
  },
  {
   "cell_type": "code",
   "execution_count": null,
   "metadata": {},
   "outputs": [],
   "source": [
    "nakupy = [\n",
    "    {\"person\": \"Petr\", \"item\": \"Prací prášek\", \"value\": 399},\n",
    "    {\"person\": \"Ondra\", \"item\": \"Savo\", \"value\": 80},\n",
    "    {\"person\": \"Petr\", \"item\": \"Toaletní papír\", \"value\": 65},\n",
    "    {\"person\": \"Libor\", \"item\": \"Pivo\", \"value\": 124},\n",
    "    {\"person\": \"Petr\", \"item\": \"Pytel na odpadky\", \"value\": 75},\n",
    "    {\"person\": \"Míša\", \"item\": \"Utěrky na nádobí\", \"value\": 130},\n",
    "    {\"person\": \"Ondra\", \"item\": \"Toaletní papír\", \"value\": 120},\n",
    "    {\"person\": \"Míša\", \"item\": \"Pečící papír\", \"value\": 30},\n",
    "    {\"person\": \"Zuzka\", \"item\": \"Savo\", \"value\": 80},\n",
    "    {\"person\": \"Pavla\", \"item\": \"Máslo\", \"value\": 50},\n",
    "    {\"person\": \"Ondra\", \"item\": \"Káva\", \"value\": 300}\n",
    "]"
   ]
  },
  {
   "cell_type": "code",
   "execution_count": null,
   "metadata": {},
   "outputs": [],
   "source": [
    "nakupy = pandas.DataFrame(nakupy)\n",
    "nakupy.info()"
   ]
  }
 ],
 "metadata": {
  "kernelspec": {
   "display_name": "Python 3.10.1 64-bit",
   "language": "python",
   "name": "python3"
  },
  "language_info": {
   "codemirror_mode": {
    "name": "ipython",
    "version": 3
   },
   "file_extension": ".py",
   "mimetype": "text/x-python",
   "name": "python",
   "nbconvert_exporter": "python",
   "pygments_lexer": "ipython3",
   "version": "3.10.1"
  },
  "orig_nbformat": 4,
  "vscode": {
   "interpreter": {
    "hash": "aee8b7b246df8f9039afb4144a1f6fd8d2ca17a180786b69acc140d282b71a49"
   }
  }
 },
 "nbformat": 4,
 "nbformat_minor": 2
}
