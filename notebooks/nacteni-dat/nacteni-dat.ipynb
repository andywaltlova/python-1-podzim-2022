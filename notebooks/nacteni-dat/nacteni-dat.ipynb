{
 "cells": [
  {
   "cell_type": "markdown",
   "metadata": {},
   "source": [
    "# Načtení dat"
   ]
  },
  {
   "cell_type": "code",
   "execution_count": null,
   "metadata": {},
   "outputs": [],
   "source": [
    "# Mám nainstalovaný modul pandas?\n",
    "import sys\n",
    "sys.modules.keys()\n",
    "\n",
    "import pandas\n",
    "print(pandas.__version__)\n",
    "\n",
    "## Nebo:\n",
    "try:\n",
    "    import pandas\n",
    "    print(\"module is installed\")\n",
    "except ModuleNotFoundError:\n",
    "    print(\"module is not installed\")"
   ]
  },
  {
   "cell_type": "markdown",
   "metadata": {},
   "source": [
    "## Základní práce s DataFrame\n",
    "\n",
    "Základní datový typ, který Pandas nabízí, je `DataFrame`, neboli lidově „tabulka”. \n",
    "\n",
    "Jednotlivé záznamy jsou v ní uvedeny jako řádky a části těchto záznamů jsou úhledně srovnány ve sloupcích.\n",
    "\n",
    "Dokumentace: https://pandas.pydata.org/pandas-docs/stable/reference/api/pandas.DataFrame.html\n"
   ]
  },
  {
   "cell_type": "code",
   "execution_count": null,
   "metadata": {},
   "outputs": [],
   "source": [
    "import pandas\n",
    "\n",
    "# create an Empty DataFrame object\n",
    "df_empty = pandas.DataFrame()\n",
    "print(df_empty)"
   ]
  },
  {
   "cell_type": "code",
   "execution_count": null,
   "metadata": {},
   "outputs": [],
   "source": [
    "# create an Empty DataFrame object With column names only\n",
    "df_with_columns = pandas.DataFrame(columns=[\"column1\", \"column2\", \"column3\"])\n",
    "print(df_with_columns)"
   ]
  },
  {
   "cell_type": "markdown",
   "metadata": {},
   "source": [
    "## Načítání dat\n",
    "\n",
    "**Funkce `read_csv()`** \n",
    "\n",
    "Dokumentace: https://pandas.pydata.org/pandas-docs/stable/reference/api/pandas.read_csv.html\n",
    "\n",
    "Pandas nabízí kromě funkce `read_csv()` také funkci pro čtení formátu JSON `read_json()` nebo dokonce funkci pro čtení přímo Excelových tabulek `read_excel()`."
   ]
  },
  {
   "cell_type": "code",
   "execution_count": null,
   "metadata": {},
   "outputs": [],
   "source": [
    "## Stazeni souboru nakupy.csv\n",
    "import requests\n",
    "\n",
    "# requests.packages.urllib3.disable_warnings()\n",
    "\n",
    "url = \"https://kodim.cz/cms/assets/kurzy/python-data-1/python-pro-data-1/nacteni-dat/nakupy.csv\"\n",
    "r = requests.get(url, allow_redirects=True, verify=False)\n",
    "open(\"nakupy.csv\", \"wb\").write(r.content)"
   ]
  },
  {
   "cell_type": "markdown",
   "metadata": {},
   "source": [
    "**Načtení csv souboru**\n",
    "\n",
    "Důležité je, že si soubor musíš uložit nebo zkopírovat do stejného adresáře, v jakém právě pracuješ ve Visual Studiu. "
   ]
  },
  {
   "cell_type": "code",
   "execution_count": null,
   "metadata": {},
   "outputs": [],
   "source": [
    "nakupy = pandas.read_csv(\"nakupy.csv\")\n",
    "\n",
    "print(nakupy)"
   ]
  },
  {
   "cell_type": "markdown",
   "metadata": {},
   "source": [
    "### Index\n",
    "\n",
    "Index je hodnota, která identifikuje řádek. \n",
    "\n",
    "V některých případech nemusíme jako index používat číslo řádku, ale můžeme jako index vybrat některý ze sloupců. Obdobnou funkci má v databázích primární klíč. \n"
   ]
  },
  {
   "cell_type": "markdown",
   "metadata": {},
   "source": [
    "### Základní informace o tabulce\n",
    "\n",
    "Metoda `info()` vrací souhrnné informace o celé tabulce: názvy sloupců, datové typy, počet neprázdných hodnot atd."
   ]
  },
  {
   "cell_type": "code",
   "execution_count": null,
   "metadata": {},
   "outputs": [],
   "source": [
    "nakupy.info()"
   ]
  },
  {
   "cell_type": "markdown",
   "metadata": {},
   "source": [
    "Počet řádků a sloupců můžeme získat z vlastnosti `shape`.\n",
    "\n",
    "Můžeme si z ní data načíst stejně jako ze seznamu, na prvním místě je vždy počet řádků a na druhém počet sloupců."
   ]
  },
  {
   "cell_type": "code",
   "execution_count": null,
   "metadata": {},
   "outputs": [],
   "source": [
    "# Pokud by nás třeba zajímal jen počet řádků, napíšeme:\n",
    "pocet_radku = nakupy.shape[0]\n",
    "print(\"Moje data mají \" + str(pocet_radku) + \" řádků.\")"
   ]
  },
  {
   "cell_type": "markdown",
   "metadata": {},
   "source": [
    "\n",
    "Názvy všech sloupců získáme pomocí vlastnosti `columns`."
   ]
  },
  {
   "cell_type": "code",
   "execution_count": null,
   "metadata": {},
   "outputs": [],
   "source": [
    "nakupy.columns\n",
    "\n",
    "## Alternativa\n",
    "# Vybrat unikatni hodnoty z prvniho sloupce\n",
    "# print(nakupy.iloc[:, 0].unique())"
   ]
  },
  {
   "cell_type": "markdown",
   "metadata": {},
   "source": [
    "## Výběr sloupců\n",
    "\n",
    "Pokud vybíráme pouze jeden sloupec, vrátí se nám takzvaná Série (`Series`), což je jiný datový typ než `DataFrame`. \n",
    "\n",
    "Sérii si představme jako jednorozměrnou tabulku.\n"
   ]
  },
  {
   "cell_type": "code",
   "execution_count": null,
   "metadata": {},
   "outputs": [],
   "source": [
    "nakupy[\"Věc\"]"
   ]
  },
  {
   "cell_type": "markdown",
   "metadata": {},
   "source": [
    "Pro výběr více sloupců musíme do indexace DataFrame vložit seznam s názvy sloupců."
   ]
  },
  {
   "cell_type": "code",
   "execution_count": null,
   "metadata": {},
   "outputs": [],
   "source": [
    "nakupy[[\"Jméno\", \"Částka v korunách\"]]"
   ]
  },
  {
   "cell_type": "code",
   "execution_count": null,
   "metadata": {},
   "outputs": [],
   "source": [
    "# Tady se nám již vrátil datový typ DataFrame.\n",
    "# Tohoto triku můžeme využít, když \n",
    "# - chceme získat pouze jeden sloupec, \n",
    "# - ale nechceme ho v datovém typu Série, \n",
    "# - ale jako DataFrame.\n",
    "\n",
    "nakupy[['Věc']]"
   ]
  },
  {
   "cell_type": "markdown",
   "metadata": {},
   "source": [
    "## Výběr řádků"
   ]
  },
  {
   "cell_type": "markdown",
   "metadata": {},
   "source": [
    "### Výběr řádků pomocí čísla řádku\n",
    "\n",
    "V `pandas` má každý řádek přiřazený _index_. \n",
    "\n",
    "Jako _index_ můžeme zvolit některý ze sloupců. \n",
    "\n",
    "Pokud však tabulku načteme bez toho, abychom specifikovali _index_, pandas nám vytvoří číselný _index_ automaticky. \n"
   ]
  },
  {
   "cell_type": "markdown",
   "metadata": {},
   "source": [
    "K vybrání jednoho konkrétního řádku můžeme použít metodu `iloc[]`."
   ]
  },
  {
   "cell_type": "code",
   "execution_count": null,
   "metadata": {},
   "outputs": [],
   "source": [
    "# Zkusme si zobrazit třeba čtvrtý nákup.\n",
    "nakupy.iloc[3]\n",
    "\n",
    "# Výběr jednoho řádku nám vrátí Sérii stejně jako v případě výběru jediného sloupce. "
   ]
  },
  {
   "cell_type": "markdown",
   "metadata": {},
   "source": [
    "Metoda `iloc[]` umožňuje pro výběr řádků použít rozsah ve formátu **od:do**. \n",
    "\n",
    "K tomu používáme dvojtečku. Před dvojtečku píšeme první řádek, který chceme vypsat a za dvojtečku první řádek, který již vy výpisu nebude. "
   ]
  },
  {
   "cell_type": "code",
   "execution_count": null,
   "metadata": {},
   "outputs": [],
   "source": [
    "nakupy.iloc[3:5]\n",
    "\n",
    "# nakupy.iloc[:3] ## prvni tri radky\n",
    "# nakupy.iloc[8:] ## posledni tri radky\n",
    "# nakupy.iloc[-3:] ## posledni tri radky"
   ]
  },
  {
   "cell_type": "markdown",
   "metadata": {},
   "source": [
    "### Začátek a konec jinak\n",
    "\n",
    "K zobrazení posledních několik řádků můžeme použít i funkce `head()` a `tail()`."
   ]
  },
  {
   "cell_type": "code",
   "execution_count": null,
   "metadata": {},
   "outputs": [],
   "source": [
    "nakupy.head() # nakupy.head(10) zobrazi 10 prvnich radek\n",
    "\n",
    "# nakupy.tail()"
   ]
  },
  {
   "cell_type": "markdown",
   "metadata": {},
   "source": [
    "## Výběr řádků a sloupců podle čísla\n",
    "\n",
    "Čísla sloupců zadáváme jako druhý parametr funkce `iloc`."
   ]
  },
  {
   "cell_type": "code",
   "execution_count": null,
   "metadata": {},
   "outputs": [],
   "source": [
    "nakupy.iloc[:5,0]"
   ]
  },
  {
   "cell_type": "markdown",
   "metadata": {},
   "source": [
    "Pro zobrazení nesousedících sloupců (nebo řádků) použijeme _seznam_. "
   ]
  },
  {
   "cell_type": "code",
   "execution_count": null,
   "metadata": {},
   "outputs": [],
   "source": [
    "nakupy.iloc[:5,[0,3]] "
   ]
  },
  {
   "cell_type": "markdown",
   "metadata": {},
   "source": [
    "Pro výběr všech řádků napíšeme jako první parametr pouze dvojtečku."
   ]
  },
  {
   "cell_type": "code",
   "execution_count": null,
   "metadata": {},
   "outputs": [],
   "source": [
    "nakupy.iloc[:,[0,3]]"
   ]
  },
  {
   "cell_type": "code",
   "execution_count": null,
   "metadata": {},
   "outputs": [],
   "source": [
    "# Neco navíc: Cesta z DataFrame do CSV\n",
    "\n",
    "nakupy.to_csv(\"export_dat.csv\", sep=',', encoding='utf-8', index=False)\n",
    "\n",
    "## DOKUMENTACE: https://pandas.pydata.org/docs/reference/api/pandas.DataFrame.to_csv.html"
   ]
  }
 ],
 "metadata": {
  "kernelspec": {
   "display_name": "Python 3.10.1 64-bit",
   "language": "python",
   "name": "python3"
  },
  "language_info": {
   "codemirror_mode": {
    "name": "ipython",
    "version": 3
   },
   "file_extension": ".py",
   "mimetype": "text/x-python",
   "name": "python",
   "nbconvert_exporter": "python",
   "pygments_lexer": "ipython3",
   "version": "3.10.1"
  },
  "orig_nbformat": 4,
  "vscode": {
   "interpreter": {
    "hash": "aee8b7b246df8f9039afb4144a1f6fd8d2ca17a180786b69acc140d282b71a49"
   }
  }
 },
 "nbformat": 4,
 "nbformat_minor": 2
}
